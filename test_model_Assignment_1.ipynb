{
  "nbformat": 4,
  "nbformat_minor": 0,
  "metadata": {
    "colab": {
      "name": "test model Assignment 1.ipynb",
      "provenance": [],
      "collapsed_sections": [],
      "toc_visible": true
    },
    "kernelspec": {
      "name": "python3",
      "display_name": "Python 3"
    }
  },
  "cells": [
    {
      "cell_type": "code",
      "metadata": {
        "id": "zvhpfQAjEdHe",
        "colab_type": "code",
        "colab": {}
      },
      "source": [
        "import sys\n",
        "import tensorflow as tf\n",
        "import numpy as np\n",
        "BASE = 3\n",
        "\n",
        "def base_len(size, base):\n",
        "    i = 0\n",
        "    while size != 0:\n",
        "        i = i+1\n",
        "        size = int(size / base)\n",
        "    return i\n",
        "\n",
        "def structurize_data(data, size):\n",
        "    str_data = np.ndarray((len(data), size), dtype='float')\n",
        "    for i in range(len(data)):\n",
        "        for j in range(size):\n",
        "            x = data[i]%(BASE ** (j+1))\n",
        "            str_data[i][j] = (int(x/(BASE ** j)))\n",
        "    return str_data\n",
        "\n",
        "def get_label(label, val):\n",
        "    if label == 0:\n",
        "        return \"fizzbuzz\"\n",
        "    if label == 1:\n",
        "        return \"fizz\"\n",
        "    if label == 2:\n",
        "        return \"buzz\"\n",
        "    if label == 3:\n",
        "        return str(val)\n",
        "\n",
        "size = base_len(1000, BASE) + 1\n",
        "test_file = \"test_input.txt\"\n",
        "model = tf.keras.models.load_model('fizz_buzz_model.h5')\n",
        "orig_stdout = sys.stdout\n",
        "f = open('Software2.txt', 'w')\n",
        "sys.stdout = f\n",
        "g = open(test_file, \"r\")\n",
        "test_inp = [int(i) for i in g] \n",
        "test_inp = structurize_data(test_inp, size)\n",
        "predictions = model.predict_classes(test_inp)\n",
        "i = 0\n",
        "for x in predictions:\n",
        "    i = i+1\n",
        "    print(get_label(x, i))\n",
        "sys.stdout = orig_stdout\n",
        "g.close()\n",
        "f.close()"
      ],
      "execution_count": 0,
      "outputs": []
    }
  ]
}